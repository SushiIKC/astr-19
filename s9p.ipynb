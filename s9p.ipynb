{
 "cells": [
  {
   "cell_type": "markdown",
   "id": "c338d145-9543-4fdd-9446-48bc88a596a7",
   "metadata": {},
   "source": [
    "Create a Jupyter notebook, import matplotlib. Use numpy to pull 1000 random numbers distributed uniformly between [0,1]. Histogram the random numbers into 100 bins, and plot the histogram. Label your axes and save the figure as a PDF."
   ]
  },
  {
   "cell_type": "code",
   "execution_count": null,
   "id": "f44bae01-85dd-48d5-8f04-21fc96dab7df",
   "metadata": {},
   "outputs": [],
   "source": [
    "import matplotlib.pyplot as plt\n",
    "import numpy as np"
   ]
  },
  {
   "cell_type": "code",
   "execution_count": null,
   "id": "57779a28-13cf-4a73-bfdb-8307c4ebe09a",
   "metadata": {},
   "outputs": [],
   "source": [
    "x = np.random.uniform(0, 1, 1000)\n",
    "\n",
    "plt.hist(x,bins=100,alpha=0.5,edgecolor=\"black\")\n",
    "plt.ylabel(\"N per bin\")\n",
    "plt.xlabel(\"x\")\n",
    "plt.show()\n",
    "plt.savefig(\"s9.pdf\", bbox_inches=\"tight\")"
   ]
  }
 ],
 "metadata": {
  "kernelspec": {
   "display_name": "Python 3 (ipykernel)",
   "language": "python",
   "name": "python3"
  },
  "language_info": {
   "codemirror_mode": {
    "name": "ipython",
    "version": 3
   },
   "file_extension": ".py",
   "mimetype": "text/x-python",
   "name": "python",
   "nbconvert_exporter": "python",
   "pygments_lexer": "ipython3",
   "version": "3.11.5"
  }
 },
 "nbformat": 4,
 "nbformat_minor": 5
}
